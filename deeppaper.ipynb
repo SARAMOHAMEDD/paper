{
  "cells": [
    {
      "cell_type": "markdown",
      "metadata": {
        "id": "ws7q6U1auBht"
      },
      "source": [
        "this is to read from kaggle directly"
      ]
    },
    {
      "cell_type": "code",
      "execution_count": null,
      "metadata": {
        "id": "h3hnrbGwmggb",
        "colab": {
          "base_uri": "https://localhost:8080/",
          "height": 90
        },
        "outputId": "862ccf98-78a6-42cb-9e05-46c36e8e1454"
      },
      "outputs": [
        {
          "output_type": "display_data",
          "data": {
            "text/plain": [
              "<IPython.core.display.HTML object>"
            ],
            "text/html": [
              "\n",
              "     <input type=\"file\" id=\"files-f17201b2-7dd6-443f-b813-7fd37437a3b7\" name=\"files[]\" multiple disabled\n",
              "        style=\"border:none\" />\n",
              "     <output id=\"result-f17201b2-7dd6-443f-b813-7fd37437a3b7\">\n",
              "      Upload widget is only available when the cell has been executed in the\n",
              "      current browser session. Please rerun this cell to enable.\n",
              "      </output>\n",
              "      <script>// Copyright 2017 Google LLC\n",
              "//\n",
              "// Licensed under the Apache License, Version 2.0 (the \"License\");\n",
              "// you may not use this file except in compliance with the License.\n",
              "// You may obtain a copy of the License at\n",
              "//\n",
              "//      http://www.apache.org/licenses/LICENSE-2.0\n",
              "//\n",
              "// Unless required by applicable law or agreed to in writing, software\n",
              "// distributed under the License is distributed on an \"AS IS\" BASIS,\n",
              "// WITHOUT WARRANTIES OR CONDITIONS OF ANY KIND, either express or implied.\n",
              "// See the License for the specific language governing permissions and\n",
              "// limitations under the License.\n",
              "\n",
              "/**\n",
              " * @fileoverview Helpers for google.colab Python module.\n",
              " */\n",
              "(function(scope) {\n",
              "function span(text, styleAttributes = {}) {\n",
              "  const element = document.createElement('span');\n",
              "  element.textContent = text;\n",
              "  for (const key of Object.keys(styleAttributes)) {\n",
              "    element.style[key] = styleAttributes[key];\n",
              "  }\n",
              "  return element;\n",
              "}\n",
              "\n",
              "// Max number of bytes which will be uploaded at a time.\n",
              "const MAX_PAYLOAD_SIZE = 100 * 1024;\n",
              "\n",
              "function _uploadFiles(inputId, outputId) {\n",
              "  const steps = uploadFilesStep(inputId, outputId);\n",
              "  const outputElement = document.getElementById(outputId);\n",
              "  // Cache steps on the outputElement to make it available for the next call\n",
              "  // to uploadFilesContinue from Python.\n",
              "  outputElement.steps = steps;\n",
              "\n",
              "  return _uploadFilesContinue(outputId);\n",
              "}\n",
              "\n",
              "// This is roughly an async generator (not supported in the browser yet),\n",
              "// where there are multiple asynchronous steps and the Python side is going\n",
              "// to poll for completion of each step.\n",
              "// This uses a Promise to block the python side on completion of each step,\n",
              "// then passes the result of the previous step as the input to the next step.\n",
              "function _uploadFilesContinue(outputId) {\n",
              "  const outputElement = document.getElementById(outputId);\n",
              "  const steps = outputElement.steps;\n",
              "\n",
              "  const next = steps.next(outputElement.lastPromiseValue);\n",
              "  return Promise.resolve(next.value.promise).then((value) => {\n",
              "    // Cache the last promise value to make it available to the next\n",
              "    // step of the generator.\n",
              "    outputElement.lastPromiseValue = value;\n",
              "    return next.value.response;\n",
              "  });\n",
              "}\n",
              "\n",
              "/**\n",
              " * Generator function which is called between each async step of the upload\n",
              " * process.\n",
              " * @param {string} inputId Element ID of the input file picker element.\n",
              " * @param {string} outputId Element ID of the output display.\n",
              " * @return {!Iterable<!Object>} Iterable of next steps.\n",
              " */\n",
              "function* uploadFilesStep(inputId, outputId) {\n",
              "  const inputElement = document.getElementById(inputId);\n",
              "  inputElement.disabled = false;\n",
              "\n",
              "  const outputElement = document.getElementById(outputId);\n",
              "  outputElement.innerHTML = '';\n",
              "\n",
              "  const pickedPromise = new Promise((resolve) => {\n",
              "    inputElement.addEventListener('change', (e) => {\n",
              "      resolve(e.target.files);\n",
              "    });\n",
              "  });\n",
              "\n",
              "  const cancel = document.createElement('button');\n",
              "  inputElement.parentElement.appendChild(cancel);\n",
              "  cancel.textContent = 'Cancel upload';\n",
              "  const cancelPromise = new Promise((resolve) => {\n",
              "    cancel.onclick = () => {\n",
              "      resolve(null);\n",
              "    };\n",
              "  });\n",
              "\n",
              "  // Wait for the user to pick the files.\n",
              "  const files = yield {\n",
              "    promise: Promise.race([pickedPromise, cancelPromise]),\n",
              "    response: {\n",
              "      action: 'starting',\n",
              "    }\n",
              "  };\n",
              "\n",
              "  cancel.remove();\n",
              "\n",
              "  // Disable the input element since further picks are not allowed.\n",
              "  inputElement.disabled = true;\n",
              "\n",
              "  if (!files) {\n",
              "    return {\n",
              "      response: {\n",
              "        action: 'complete',\n",
              "      }\n",
              "    };\n",
              "  }\n",
              "\n",
              "  for (const file of files) {\n",
              "    const li = document.createElement('li');\n",
              "    li.append(span(file.name, {fontWeight: 'bold'}));\n",
              "    li.append(span(\n",
              "        `(${file.type || 'n/a'}) - ${file.size} bytes, ` +\n",
              "        `last modified: ${\n",
              "            file.lastModifiedDate ? file.lastModifiedDate.toLocaleDateString() :\n",
              "                                    'n/a'} - `));\n",
              "    const percent = span('0% done');\n",
              "    li.appendChild(percent);\n",
              "\n",
              "    outputElement.appendChild(li);\n",
              "\n",
              "    const fileDataPromise = new Promise((resolve) => {\n",
              "      const reader = new FileReader();\n",
              "      reader.onload = (e) => {\n",
              "        resolve(e.target.result);\n",
              "      };\n",
              "      reader.readAsArrayBuffer(file);\n",
              "    });\n",
              "    // Wait for the data to be ready.\n",
              "    let fileData = yield {\n",
              "      promise: fileDataPromise,\n",
              "      response: {\n",
              "        action: 'continue',\n",
              "      }\n",
              "    };\n",
              "\n",
              "    // Use a chunked sending to avoid message size limits. See b/62115660.\n",
              "    let position = 0;\n",
              "    do {\n",
              "      const length = Math.min(fileData.byteLength - position, MAX_PAYLOAD_SIZE);\n",
              "      const chunk = new Uint8Array(fileData, position, length);\n",
              "      position += length;\n",
              "\n",
              "      const base64 = btoa(String.fromCharCode.apply(null, chunk));\n",
              "      yield {\n",
              "        response: {\n",
              "          action: 'append',\n",
              "          file: file.name,\n",
              "          data: base64,\n",
              "        },\n",
              "      };\n",
              "\n",
              "      let percentDone = fileData.byteLength === 0 ?\n",
              "          100 :\n",
              "          Math.round((position / fileData.byteLength) * 100);\n",
              "      percent.textContent = `${percentDone}% done`;\n",
              "\n",
              "    } while (position < fileData.byteLength);\n",
              "  }\n",
              "\n",
              "  // All done.\n",
              "  yield {\n",
              "    response: {\n",
              "      action: 'complete',\n",
              "    }\n",
              "  };\n",
              "}\n",
              "\n",
              "scope.google = scope.google || {};\n",
              "scope.google.colab = scope.google.colab || {};\n",
              "scope.google.colab._files = {\n",
              "  _uploadFiles,\n",
              "  _uploadFilesContinue,\n",
              "};\n",
              "})(self);\n",
              "</script> "
            ]
          },
          "metadata": {}
        },
        {
          "output_type": "stream",
          "name": "stdout",
          "text": [
            "Saving kaggle.json to kaggle.json\n",
            "User uploaded file \"kaggle.json\" with length 69 bytes\n"
          ]
        }
      ],
      "source": [
        "from google.colab import files\n",
        "\n",
        "uploaded = files.upload()\n",
        "\n",
        "for fn in uploaded.keys():\n",
        "  print('User uploaded file \"{name}\" with length {length} bytes'.format(\n",
        "      name=fn, length=len(uploaded[fn])))\n",
        "\n",
        "# Then move kaggle.json into the folder where the API expects to find it.\n",
        "!mkdir -p ~/.kaggle/ && mv kaggle.json ~/.kaggle/ && chmod 600 ~/.kaggle/kaggle.json\n"
      ]
    },
    {
      "cell_type": "code",
      "execution_count": null,
      "metadata": {
        "id": "Xu62IJtynhn1",
        "colab": {
          "base_uri": "https://localhost:8080/"
        },
        "outputId": "26b2e9c6-1023-43cf-c517-59f2676b1982"
      },
      "outputs": [
        {
          "output_type": "stream",
          "name": "stdout",
          "text": [
            "Downloading malayakew-plant-leaf-dataset.zip to /content\n",
            " 95% 390M/409M [00:01<00:00, 230MB/s]\n",
            "100% 409M/409M [00:01<00:00, 223MB/s]\n"
          ]
        }
      ],
      "source": [
        "\n",
        "!kaggle datasets download -d abdulhasibuddin/malayakew-plant-leaf-dataset"
      ]
    },
    {
      "cell_type": "markdown",
      "metadata": {
        "id": "ErjeWYnCt7Cc"
      },
      "source": [
        "this is the extract of the file"
      ]
    },
    {
      "cell_type": "code",
      "execution_count": null,
      "metadata": {
        "id": "IVhbouoYoheT"
      },
      "outputs": [],
      "source": [
        "from zipfile import ZipFile\n",
        "file_name = \"/content/malayakew-plant-leaf-dataset.zip\"\n",
        "with ZipFile(file_name,'r') as zip:\n",
        "  zip.extractall()\n",
        "  print('Done')"
      ]
    },
    {
      "cell_type": "code",
      "execution_count": null,
      "metadata": {
        "id": "1uWCgVblpoe8",
        "colab": {
          "base_uri": "https://localhost:8080/"
        },
        "outputId": "e1df9dd1-0513-4a99-aae0-f483b3b9ef23"
      },
      "outputs": [
        {
          "output_type": "stream",
          "name": "stderr",
          "text": [
            "<ipython-input-9-2d3e2428e4be>:5: TqdmDeprecationWarning: This function will be removed in tqdm==5.0.0\n",
            "Please use `tqdm.notebook.*` instead of `tqdm._tqdm_notebook.*`\n",
            "  from tqdm._tqdm_notebook import tqdm_notebook as tqdm\n"
          ]
        }
      ],
      "source": [
        "import tensorflow as tf\n",
        "from zipfile import ZipFile\n",
        "import os,glob\n",
        "import cv2\n",
        "from tqdm._tqdm_notebook import tqdm_notebook as tqdm\n",
        "import numpy as np\n",
        "from sklearn import preprocessing\n",
        "from sklearn.model_selection import train_test_split\n",
        "from keras.models import Sequential\n",
        "from keras.layers import Convolution2D, Dropout, Dense,MaxPooling2D\n",
        "from keras.layers import BatchNormalization\n",
        "from keras.layers import MaxPooling2D\n",
        "from keras.layers import Flatten\n",
        "from PIL import Image\n",
        "import matplotlib.pyplot as plt\n",
        "import matplotlib.image as mpimg\n",
        "import random"
      ]
    },
    {
      "cell_type": "markdown",
      "metadata": {
        "id": "KQDltqcYRmKL"
      },
      "source": [
        "here we make the pic into array"
      ]
    },
    {
      "cell_type": "code",
      "execution_count": null,
      "metadata": {
        "id": "PbPgvFBXuRR3"
      },
      "outputs": [],
      "source": [
        "def load_images(root_folder, folder_names, target_size=(224, 224)):\n",
        "    # Lists to store image data (X) and labels (y)\n",
        "    X = []  # Image data\n",
        "    y = []  # Corresponding labels\n",
        "\n",
        "    label_counter = 0  # Counter to assign labels to different classes\n",
        "\n",
        "    # Loop through each folder representing a class\n",
        "    for folder_name in folder_names:\n",
        "        # Construct the path for the current folder\n",
        "        folder_path = os.path.join(root_folder, folder_name)\n",
        "\n",
        "        # Check if the folder path exists and is a directory\n",
        "        if os.path.isdir(folder_path):\n",
        "            # For each image in the folder\n",
        "            for filename in sorted(os.listdir(folder_path)):\n",
        "                # Construct the full path of the image file\n",
        "                img_path = os.path.join(folder_path, filename)\n",
        "\n",
        "                # Open the image using PIL\n",
        "                with Image.open(img_path) as img:\n",
        "                    # Resize the image to the target size\n",
        "                    img_resized = img.resize(target_size)\n",
        "\n",
        "                    # Convert the image to a NumPy array\n",
        "                    img_array = np.array(img_resized)\n",
        "\n",
        "                    # Append the image array to the X list\n",
        "                    X.append(img_array)\n",
        "\n",
        "                    # Append the corresponding label to the y list\n",
        "                    y.append(label_counter)\n",
        "\n",
        "            # Increment the label counter for the next class\n",
        "            label_counter += 1\n",
        "\n",
        "    # Convert the lists of images and labels to NumPy arrays and return\n",
        "    return np.array(X), np.array(y)"
      ]
    },
    {
      "cell_type": "code",
      "execution_count": null,
      "metadata": {
        "id": "ERtf9bKaQ2h1"
      },
      "outputs": [],
      "source": [
        "root_folder = '/content/MK/D1/train'\n",
        "selected_folders = ['Class (1)', 'Class (4)']\n",
        "X_train, y_train = load_images(root_folder, selected_folders)\n",
        "root_folder = '/content/MK/D1/test'\n",
        "X_test, y_test = load_images(root_folder, selected_folders)\n"
      ]
    },
    {
      "cell_type": "code",
      "execution_count": null,
      "metadata": {
        "id": "XTjVBd69VFEx"
      },
      "outputs": [],
      "source": [
        "!pip install keras.tuner"
      ]
    },
    {
      "cell_type": "code",
      "execution_count": null,
      "metadata": {
        "id": "y_X1uUl3P7nc"
      },
      "outputs": [],
      "source": [
        "print(\"X_train\", X_train.shape)\n",
        "print(\"y_train\", y_train.shape)\n",
        "print(\"X_test\", X_test.shape)\n",
        "print(\"y_test\", y_test.shape)"
      ]
    },
    {
      "cell_type": "code",
      "execution_count": null,
      "metadata": {
        "id": "LZCIe47lQrM9",
        "colab": {
          "base_uri": "https://localhost:8080/"
        },
        "outputId": "72d4a7e3-1aa8-4e9c-aac6-514bd3581df6"
      },
      "outputs": [
        {
          "output_type": "stream",
          "name": "stdout",
          "text": [
            "X_train Shape:  (104, 224, 224, 3)\n",
            "X_test Shape:  (24, 224, 224, 3)\n",
            "y_train Shape:  (104,)\n",
            "y_test Shape:  (24,)\n"
          ]
        }
      ],
      "source": [
        "y_train = np.array(y_train)\n",
        "X_train = np.array(X_train)\n",
        "y_test = np.array(y_test)\n",
        "X_test = np.array(X_test)\n",
        "print(\"X_train Shape: \", X_train.shape)\n",
        "print(\"X_test Shape: \", X_test.shape)\n",
        "print(\"y_train Shape: \", y_train.shape)\n",
        "print(\"y_test Shape: \", y_test.shape)"
      ]
    },
    {
      "cell_type": "code",
      "execution_count": null,
      "metadata": {
        "id": "9b9WEJ2AQxkw"
      },
      "outputs": [],
      "source": [
        "X_train=X_train/255.0\n",
        "X_test=X_test/255.0"
      ]
    },
    {
      "cell_type": "markdown",
      "metadata": {
        "id": "TScTI2GrQYBZ"
      },
      "source": [
        "This is only shape of one of them"
      ]
    },
    {
      "cell_type": "code",
      "execution_count": null,
      "metadata": {
        "id": "h8xJlon6bMxl",
        "colab": {
          "base_uri": "https://localhost:8080/",
          "height": 470
        },
        "outputId": "462aed0c-a0a1-415f-aaa7-dab27bbd5b48"
      },
      "outputs": [
        {
          "output_type": "stream",
          "name": "stdout",
          "text": [
            "(256, 256, 3)\n"
          ]
        },
        {
          "output_type": "execute_result",
          "data": {
            "text/plain": [
              "<matplotlib.image.AxesImage at 0x7f04076ca200>"
            ]
          },
          "metadata": {},
          "execution_count": 16
        },
        {
          "output_type": "display_data",
          "data": {
            "text/plain": [
              "<Figure size 640x480 with 1 Axes>"
            ],
            "image/png": "[encoded data removed]"
          },
          "metadata": {}
        }
      ],
      "source": [
        "train_img = plt.imread('/content/MK/D1/train/Class (1)/R_0Class1 (10).jpg')\n",
        "print (train_img.shape)\n",
        "plt.imshow(train_img)"
      ]
    },
    {
      "cell_type": "code",
      "execution_count": null,
      "metadata": {
        "id": "KhIBXqwybkqu"
      },
      "outputs": [],
      "source": [
        "from keras.preprocessing.image import ImageDataGenerator\n",
        "\n",
        "# Create an ImageDataGenerator with desired augmentation parameters\n",
        "datagen = ImageDataGenerator(\n",
        "    rotation_range=20,\n",
        "    width_shift_range=0.2,\n",
        "    height_shift_range=0.2,\n",
        "    shear_range=0.2,\n",
        "    zoom_range=0.2,\n",
        "    rescale=1./255,\n",
        "    horizontal_flip=True,\n",
        "    fill_mode='nearest'\n",
        "# class_mode='categorical'\n",
        ")"
      ]
    },
    {
      "cell_type": "code",
      "execution_count": null,
      "metadata": {
        "id": "nG-gm91XQ-H5"
      },
      "outputs": [],
      "source": [
        "# Function to apply augmentation twice to each dataset\n",
        "def augment_dataset(dataset):\n",
        "    augmented_data = []\n",
        "    for img in dataset:\n",
        "        img = np.expand_dims(img, axis=0)  # Expanding dimensions for batch size\n",
        "        for _ in range(5):  # Apply augmentation twice\n",
        "            seed = np.random.randint(0, 1000)  # Different seed for each pass\n",
        "            for batch in datagen.flow(img, batch_size=1, seed=seed):\n",
        "                augmented_data.append(np.squeeze(batch))  # Remove the batch dimension\n",
        "                break  # Stop the loop after one augmented image\n",
        "    return np.array(augmented_data)\n",
        "\n",
        "# Apply augmentation twice to X_train, X_test, and X_val\n",
        "X_train_augmented = augment_dataset(X_train)\n",
        "y_train_augmented = np.repeat(y_train,5, axis=0)\n",
        "\n",
        "\n",
        "X_test_augmented = augment_dataset(X_test)\n",
        "y_test_augmented = np.repeat(y_test,5, axis=0)\n"
      ]
    },
    {
      "cell_type": "code",
      "execution_count": null,
      "metadata": {
        "id": "e4YpzyBKR4hG"
      },
      "outputs": [],
      "source": [
        "X_test_augmented = augment_dataset(X_test)\n",
        "y_test_augmented = np.repeat(y_test,5, axis=0)"
      ]
    },
    {
      "cell_type": "code",
      "execution_count": null,
      "metadata": {
        "id": "CKHcVSVsR9ij"
      },
      "outputs": [],
      "source": [
        "print(\"X_train_augmented shape:\", X_train_augmented.shape)\n",
        "print(\"y_train_augmented shape:\", y_train_augmented.shape)\n",
        "\n",
        "print(\"X_test_augmented shape:\", X_test_augmented.shape)\n",
        "print(\"y_test_augmented shape:\", y_test_augmented.shape)"
      ]
    },
    {
      "cell_type": "code",
      "execution_count": null,
      "metadata": {
        "id": "3YqgS_PESKMT"
      },
      "outputs": [],
      "source": [
        "from sklearn.utils import shuffle\n",
        "\n",
        "# Combine original data with augmented data\n",
        "X_train_combined = np.concatenate((X_train, X_train_augmented))\n",
        "y_train_combined = np.concatenate((y_train, y_train_augmented))\n",
        "\n",
        "X_test_combined = np.concatenate((X_test, X_test_augmented))\n",
        "y_test_combined = np.concatenate((y_test, y_test_augmented))\n",
        "\n",
        "\n",
        "# Shuffle the combined data\n",
        "X_train_combined, y_train_combined = shuffle(X_train_combined, y_train_combined, random_state=42)\n",
        "X_test_combined, y_test_combined = shuffle(X_test_combined, y_test_combined, random_state=42)"
      ]
    },
    {
      "cell_type": "code",
      "execution_count": null,
      "metadata": {
        "colab": {
          "base_uri": "https://localhost:8080/"
        },
        "id": "6p17KRaaSOGX",
        "outputId": "42b6e0c0-0695-44e0-9628-acb65ee96210"
      },
      "outputs": [
        {
          "name": "stdout",
          "output_type": "stream",
          "text": [
            "(624,)\n",
            "(144,)\n"
          ]
        }
      ],
      "source": [
        "print(y_train_combined.shape)\n",
        "print(y_test_combined.shape)"
      ]
    },
    {
      "cell_type": "code",
      "source": [
        "from keras.optimizers import Adam\n",
        "from kerastuner.tuners import RandomSearch\n",
        "from keras.layers import Conv2D\n",
        "from keras.applications import VGG16,Xception,VGG19\n",
        "from keras.datasets import cifar10\n",
        "from keras.applications.vgg16 import preprocess_input\n",
        "from keras.callbacks import EarlyStopping\n",
        "\n",
        "from keras_tuner.tuners import RandomSearch\n",
        "\n",
        "\n",
        "# Load pre-trained VGG16 model\n",
        "base_model = VGG16(weights='imagenet', include_top=False, input_shape=(224, 224, 3))\n",
        "# base_model.trainable=False\n",
        "# Freeze the pre-trained layers\n",
        "for layer in base_model.layers:\n",
        "    layer.trainable = False\n",
        "\n",
        "\n",
        "def build_model(hp):\n",
        "    model = Sequential()\n",
        "    model.add(base_model)\n",
        "    model.add(Flatten())\n",
        "     # Tune the number of units in the dense layer\n",
        "    hp_units = hp.Int('units', min_value=128, max_value=512, step=32)\n",
        "    model.add(Dense(units=hp_units, activation='relu'))\n",
        "    model.add(Dropout(0.5))\n",
        "    model.add(Dense(1, activation='sigmoid'))  # Assuming binary classification\n",
        "\n",
        "    # Tune the learning rate for the optimizer\n",
        "    hp_learning_rate = hp.Choice('learning_rate', values=[1e-2, 1e-3, 1e-4])\n",
        "\n",
        "    model.compile(optimizer=Adam(learning_rate=hp_learning_rate),\n",
        "                  loss='binary_crossentropy',\n",
        "                  metrics=['accuracy'])\n",
        "\n",
        "    return model\n",
        "\n",
        "tuner = RandomSearch(\n",
        "    build_model,\n",
        "    objective='val_accuracy',\n",
        "    max_trials=3,  # Adjust the number of trials as needed\n",
        "    directory='tuner_results',\n",
        "    project_name='vgg16_tuning'\n",
        ")\n",
        "train_datagen = ImageDataGenerator(rescale=1./255)\n",
        "test_datagen = ImageDataGenerator(rescale=1./255)\n",
        "train_generator = train_datagen.flow(X_train_combined, y_train_combined, batch_size=32)\n",
        "test_generator = test_datagen.flow(X_test_combined, y_test_combined, batch_size=32)\n",
        "\n",
        "# Perform the hyperparameter search\n",
        "tuner.search(train_generator, epochs=10, validation_data=test_generator)\n",
        "\n",
        "# Get the best model and print the summary\n",
        "best_model = tuner.get_best_models(num_models=1)[0]\n",
        "best_model.summary()\n"
      ],
      "metadata": {
        "id": "iCUnKWAHdxZQ"
      },
      "execution_count": null,
      "outputs": []
    },
    {
      "cell_type": "code",
      "execution_count": null,
      "metadata": {
        "id": "u7WZc34WbqTS"
      },
      "outputs": [],
      "source": [
        "from keras.models import Model\n",
        "\n",
        "from keras import backend as K\n",
        "metrics = [\n",
        "        'accuracy',\n",
        "        tf.keras.metrics.Recall(),\n",
        "        tf.keras.metrics.Precision(),\n",
        "        tf.keras.metrics.FalseNegatives(),\n",
        "        tf.keras.metrics.FalsePositives(),\n",
        "        tf.keras.metrics.TrueNegatives(),\n",
        "        tf.keras.metrics.TruePositives(),\n",
        "        tf.keras.metrics.F1Score()]"
      ]
    },
    {
      "cell_type": "code",
      "source": [
        "callbacks = [\n",
        "    tf.keras.callbacks.EarlyStopping(\n",
        "   monitor='val_loss',patience=3,\n",
        "     restore_best_weights=True\n",
        "    )\n",
        "]\n",
        "history = best_model.fit(X_train_combined, y_train_combined.astype('float32'), epochs=10,batch_size=32,validation_split=0.10,callbacks=callbacks)"
      ],
      "metadata": {
        "id": "prmWLezvdYbn"
      },
      "execution_count": null,
      "outputs": []
    },
    {
      "cell_type": "code",
      "execution_count": null,
      "metadata": {
        "colab": {
          "base_uri": "https://localhost:8080/",
          "height": 922
        },
        "id": "wf4qm1N1b45z",
        "outputId": "772b30f2-4542-455c-a6b1-6d260f9adcc6"
      },
      "outputs": [
        {
          "output_type": "display_data",
          "data": {
            "text/plain": [
              "<Figure size 640x480 with 1 Axes>"
            ],
            "image/png": "[encoded data removed]"
          },
          "metadata": {}
        },
        {
          "output_type": "display_data",
          "data": {
            "text/plain": [
              "<Figure size 640x480 with 0 Axes>"
            ]
          },
          "metadata": {}
        },
        {
          "output_type": "display_data",
          "data": {
            "text/plain": [
              "<Figure size 640x480 with 1 Axes>"
            ],
            "image/png": "[encoded data removed]"
          },
          "metadata": {}
        },
        {
          "output_type": "display_data",
          "data": {
            "text/plain": [
              "<Figure size 640x480 with 0 Axes>"
            ]
          },
          "metadata": {}
        }
      ],
      "source": [
        "import matplotlib.pyplot as plt\n",
        "acc = history.history['accuracy']\n",
        "val_acc= history.history['val_accuracy']\n",
        "loss = history.history['loss']\n",
        "val_loss = history.history['val_loss']\n",
        "\n",
        "epochs = range(len(acc))\n",
        "\n",
        "plt.plot(epochs,acc,'r',label=\"Training accuracy\")\n",
        "plt.plot(epochs,val_acc,'b',label=\"Validation accuracy\")\n",
        "plt.title('Training and Validation accuracy')\n",
        "plt.legend(loc=0)\n",
        "plt.figure()\n",
        "plt.show()\n",
        "\n",
        "plt.plot(epochs,loss,'r',label=\"Training loss\")\n",
        "plt.plot(epochs,val_loss,'b',label=\"Validation loss\")\n",
        "plt.title('Training and Validation loss')\n",
        "plt.legend(loc=0)\n",
        "plt.figure()\n",
        "plt.show()"
      ]
    },
    {
      "cell_type": "code",
      "execution_count": null,
      "metadata": {
        "colab": {
          "base_uri": "https://localhost:8080/"
        },
        "id": "enHx_yVWNAmz",
        "outputId": "6d920ba3-5c2c-44a0-ad8a-b55135e96bcd"
      },
      "outputs": [
        {
          "output_type": "stream",
          "name": "stdout",
          "text": [
            "5/5 [==============================] - 55s 11s/step - loss: 0.6372 - accuracy: 0.5764 - recall: 0.9861 - precision: 0.5420 - false_negatives: 1.0000 - false_positives: 60.0000 - true_negatives: 12.0000 - true_positives: 71.0000 - f1_score: 0.6667\n"
          ]
        },
        {
          "output_type": "execute_result",
          "data": {
            "text/plain": [
              "[0.637211263179779,\n",
              " 0.5763888955116272,\n",
              " 0.9861111044883728,\n",
              " 0.5419847369194031,\n",
              " 1.0,\n",
              " 60.0,\n",
              " 12.0,\n",
              " 71.0,\n",
              " array([0.6666667], dtype=float32)]"
            ]
          },
          "metadata": {},
          "execution_count": 22
        }
      ],
      "source": [
        "best_model.evaluate(X_test_combined,y_test_combined.astype('float32'))"
      ]
    }
  ],
  "metadata": {
    "colab": {
      "provenance": []
    },
    "kernelspec": {
      "display_name": "Python 3",
      "name": "python3"
    },
    "language_info": {
      "name": "python"
    }
  },
  "nbformat": 4,
  "nbformat_minor": 0
}